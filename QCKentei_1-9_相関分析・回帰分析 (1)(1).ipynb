{
 "cells": [
  {
   "cell_type": "code",
   "execution_count": 1,
   "metadata": {},
   "outputs": [],
   "source": [
    "import os\n",
    "\n",
    "\n",
    "def ensure_and_move_to_folder(folder_name):\n",
    "  current_dir = os.getcwd()\n",
    "  target_path = os.path.join(current_dir, folder_name)\n",
    "\n",
    "  if not os.path.exists(target_path):\n",
    "    os.makedirs(target_path)\n",
    "    print(f\"Folder '{folder_name}' created successfully.\")\n",
    "  else:\n",
    "    print(f\"Folder '{folder_name}' already exists.\")\n",
    "\n",
    "  #os.chdir(target_path)"
   ]
  },
  {
   "cell_type": "code",
   "execution_count": 40,
   "metadata": {},
   "outputs": [
    {
     "name": "stdout",
     "output_type": "stream",
     "text": [
      "Folder 'VSCode' already exists.\n"
     ]
    },
    {
     "data": {
      "text/plain": [
       "'/Users/takanohiroshi/Library/CloudStorage/OneDrive-YokohamaInternationalExchangeAssociation/Python/VSCode'"
      ]
     },
     "execution_count": 40,
     "metadata": {},
     "output_type": "execute_result"
    }
   ],
   "source": [
    "folder_name = 'VSCode'\n",
    "ensure_and_move_to_folder(folder_name)\n",
    "\n",
    "path = os.getcwd()\n",
    "\n",
    "try:\n",
    "    os.chdir('../Python/VSCode')\n",
    "except:\n",
    "    pass\n",
    "\n",
    "os.getcwd()"
   ]
  },
  {
   "cell_type": "code",
   "execution_count": 41,
   "metadata": {},
   "outputs": [
    {
     "name": "stdout",
     "output_type": "stream",
     "text": [
      "Folder 'Data_1' already exists.\n"
     ]
    }
   ],
   "source": [
    "folder_name = 'Data_1'\n",
    "ensure_and_move_to_folder(folder_name)"
   ]
  },
  {
   "cell_type": "code",
   "execution_count": 42,
   "metadata": {},
   "outputs": [],
   "source": [
    "import gspread\n",
    "from google.oauth2.service_account import Credentials\n",
    "import polars as pl\n",
    "import pandas as pd\n",
    "import openpyxl"
   ]
  },
  {
   "cell_type": "code",
   "execution_count": 43,
   "metadata": {},
   "outputs": [
    {
     "name": "stdout",
     "output_type": "stream",
     "text": [
      "    x  y1  y2  y3\n",
      "0  10  35  33  30\n",
      "1  15  29  30  28\n",
      "2  20  27  28  25\n",
      "3  25  26  25  24\n"
     ]
    }
   ],
   "source": [
    "\n",
    "\n",
    "# 認証情報の設定\n",
    "SERVICE_ACCOUNT_FILE = \"my-project-vscode-452201-249bdb033f8c.json\"  # JSONファイルのパス\n",
    "SCOPES = [\"https://www.googleapis.com/auth/spreadsheets\"]\n",
    "\n",
    "credentials = Credentials.from_service_account_file(SERVICE_ACCOUNT_FILE, scopes=SCOPES)\n",
    "client = gspread.authorize(credentials)\n",
    " # スプレッドシートのID\n",
    "#SPREADSHEET_ID = \"1RkO0VL4WR6cbPBfBEjz693Lo4SdUAoSvRHV491ggXTo\"\n",
    "SPREADSHEET_ID = \"1Ma7ehT4TAnkUwJjspP-C3mwJA1hYmbJr8B9GJSFI0lU\"  # スプレッドシートのID\n",
    "\n",
    "# スプレッドシートを開く（URLまたはスプレッドシートIDを使用）\n",
    "try:   \n",
    "     # データを取得\n",
    "    sheet = client.open_by_key(SPREADSHEET_ID).worksheet(\"Sheet15\") # 最初のシートを取得\n",
    "    list_of_lists = sheet.get_all_records()\n",
    "except PermissionError:\n",
    "    print(\"ファイルがロックされています。閉じてから再試行してください。\")\n",
    "\n",
    "df = pd.DataFrame(list_of_lists)\n",
    "df = df.apply(pd.to_numeric)\n",
    "\n",
    "print(df)\n",
    "df.to_excel(\"Data_1/14_1.xlsx\",index=False)\n",
    "\n",
    "df_long = df.melt(id_vars=['x'], var_name='category', value_name='y')\n",
    "df_long = df_long[['x','y']]"
   ]
  },
  {
   "cell_type": "code",
   "execution_count": null,
   "metadata": {},
   "outputs": [],
   "source": []
  },
  {
   "cell_type": "code",
   "execution_count": null,
   "metadata": {},
   "outputs": [],
   "source": []
  }
 ],
 "metadata": {
  "kernelspec": {
   "display_name": "Python 3",
   "language": "python",
   "name": "python3"
  },
  "language_info": {
   "codemirror_mode": {
    "name": "ipython",
    "version": 3
   },
   "file_extension": ".py",
   "mimetype": "text/x-python",
   "name": "python",
   "nbconvert_exporter": "python",
   "pygments_lexer": "ipython3",
   "version": "3.10.5"
  }
 },
 "nbformat": 4,
 "nbformat_minor": 2
}
